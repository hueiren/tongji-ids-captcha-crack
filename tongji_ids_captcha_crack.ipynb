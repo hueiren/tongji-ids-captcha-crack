{
  "nbformat": 4,
  "nbformat_minor": 0,
  "metadata": {
    "colab": {
      "name": "tongji-ids-captcha-crack",
      "provenance": [],
      "collapsed_sections": [],
      "authorship_tag": "ABX9TyNuUhecwp5kPmJoZZUm6vxI",
      "include_colab_link": true
    },
    "kernelspec": {
      "name": "python3",
      "display_name": "Python 3"
    }
  },
  "cells": [
    {
      "cell_type": "markdown",
      "metadata": {
        "id": "view-in-github",
        "colab_type": "text"
      },
      "source": [
        "<a href=\"https://colab.research.google.com/github/xiongnemo/tongji-ids-captcha-crack/blob/master/tongji_ids_captcha_crack.ipynb\" target=\"_parent\"><img src=\"https://colab.research.google.com/assets/colab-badge.svg\" alt=\"Open In Colab\"/></a>"
      ]
    },
    {
      "cell_type": "code",
      "metadata": {
        "id": "KvZL46U6JouD",
        "outputId": "c513aac5-d595-42ab-ea57-f9eed9bd6fab",
        "colab": {
          "base_uri": "https://localhost:8080/",
          "height": 827
        }
      },
      "source": [
        "# !sudo apt update && sudo apt upgrade\n",
        "!sudo apt install tesseract-ocr\n",
        "!pip install pytesseract"
      ],
      "execution_count": 1,
      "outputs": [
        {
          "output_type": "stream",
          "text": [
            "Reading package lists... Done\n",
            "Building dependency tree       \n",
            "Reading state information... Done\n",
            "The following additional packages will be installed:\n",
            "  tesseract-ocr-eng tesseract-ocr-osd\n",
            "The following NEW packages will be installed:\n",
            "  tesseract-ocr tesseract-ocr-eng tesseract-ocr-osd\n",
            "0 upgraded, 3 newly installed, 0 to remove and 21 not upgraded.\n",
            "Need to get 4,795 kB of archives.\n",
            "After this operation, 15.8 MB of additional disk space will be used.\n",
            "Get:1 http://archive.ubuntu.com/ubuntu bionic/universe amd64 tesseract-ocr-eng all 4.00~git24-0e00fe6-1.2 [1,588 kB]\n",
            "Get:2 http://archive.ubuntu.com/ubuntu bionic/universe amd64 tesseract-ocr-osd all 4.00~git24-0e00fe6-1.2 [2,989 kB]\n",
            "Get:3 http://archive.ubuntu.com/ubuntu bionic/universe amd64 tesseract-ocr amd64 4.00~git2288-10f4998a-2 [218 kB]\n",
            "Fetched 4,795 kB in 1s (4,294 kB/s)\n",
            "debconf: unable to initialize frontend: Dialog\n",
            "debconf: (No usable dialog-like program is installed, so the dialog based frontend cannot be used. at /usr/share/perl5/Debconf/FrontEnd/Dialog.pm line 76, <> line 3.)\n",
            "debconf: falling back to frontend: Readline\n",
            "debconf: unable to initialize frontend: Readline\n",
            "debconf: (This frontend requires a controlling tty.)\n",
            "debconf: falling back to frontend: Teletype\n",
            "dpkg-preconfigure: unable to re-open stdin: \n",
            "Selecting previously unselected package tesseract-ocr-eng.\n",
            "(Reading database ... 144611 files and directories currently installed.)\n",
            "Preparing to unpack .../tesseract-ocr-eng_4.00~git24-0e00fe6-1.2_all.deb ...\n",
            "Unpacking tesseract-ocr-eng (4.00~git24-0e00fe6-1.2) ...\n",
            "Selecting previously unselected package tesseract-ocr-osd.\n",
            "Preparing to unpack .../tesseract-ocr-osd_4.00~git24-0e00fe6-1.2_all.deb ...\n",
            "Unpacking tesseract-ocr-osd (4.00~git24-0e00fe6-1.2) ...\n",
            "Selecting previously unselected package tesseract-ocr.\n",
            "Preparing to unpack .../tesseract-ocr_4.00~git2288-10f4998a-2_amd64.deb ...\n",
            "Unpacking tesseract-ocr (4.00~git2288-10f4998a-2) ...\n",
            "Setting up tesseract-ocr-osd (4.00~git24-0e00fe6-1.2) ...\n",
            "Setting up tesseract-ocr-eng (4.00~git24-0e00fe6-1.2) ...\n",
            "Setting up tesseract-ocr (4.00~git2288-10f4998a-2) ...\n",
            "Processing triggers for man-db (2.8.3-2ubuntu0.1) ...\n",
            "Collecting pytesseract\n",
            "  Downloading https://files.pythonhosted.org/packages/17/4b/4dbd55388225bb6cd243d21f70e77cb3ce061e241257485936324b8e920f/pytesseract-0.3.6.tar.gz\n",
            "Requirement already satisfied: Pillow in /usr/local/lib/python3.6/dist-packages (from pytesseract) (7.0.0)\n",
            "Building wheels for collected packages: pytesseract\n",
            "  Building wheel for pytesseract (setup.py) ... \u001b[?25l\u001b[?25hdone\n",
            "  Created wheel for pytesseract: filename=pytesseract-0.3.6-py2.py3-none-any.whl size=13629 sha256=c1f05c097e094175d87976ca8f3aafd458e7766600af829a0eecc00c3c473a1e\n",
            "  Stored in directory: /root/.cache/pip/wheels/ee/71/72/b98430261d849ae631e283dfc7ccb456a3fb2ed2205714b63f\n",
            "Successfully built pytesseract\n",
            "Installing collected packages: pytesseract\n",
            "Successfully installed pytesseract-0.3.6\n"
          ],
          "name": "stdout"
        }
      ]
    },
    {
      "cell_type": "code",
      "metadata": {
        "id": "n8IV0HYqXD6f"
      },
      "source": [
        "class CaptchaLengthAssertionFailedError(Exception):\n",
        "    pass"
      ],
      "execution_count": 2,
      "outputs": []
    },
    {
      "cell_type": "code",
      "metadata": {
        "id": "dgO1KD4sF2MV"
      },
      "source": [
        "# import the necessary packages\n",
        "import numpy as np\n",
        "import argparse\n",
        "import cv2\n",
        "from google.colab.patches import cv2_imshow\n",
        "import pytesseract\n",
        "\n",
        "# load the image from disk\n",
        "raw_image = cv2.imread(\"nN5K.png\")\n",
        "assert raw_image.shape == (69, 200, 3)"
      ],
      "execution_count": 3,
      "outputs": []
    },
    {
      "cell_type": "code",
      "metadata": {
        "id": "u1mzpwSaHLgE"
      },
      "source": [
        "def try_to_find_rotate_angle(image, index: int):\n",
        "    # convert the image to grayscale and flip the foreground\n",
        "    # and background to ensure foreground is now \"white\" and\n",
        "    # the background is \"black\"\n",
        "    gray = cv2.cvtColor(image, cv2.COLOR_BGR2GRAY)\n",
        "    gray = cv2.bitwise_not(gray)\n",
        "    # threshold the image, setting all foreground pixels to\n",
        "    # 255 and all background pixels to 0\n",
        "    thresh = cv2.threshold(gray, 0, 255,\n",
        "        cv2.THRESH_BINARY | cv2.THRESH_OTSU)[1]\n",
        "    # grab the (x, y) coordinates of all pixel values that\n",
        "    # are greater than zero, then use these coordinates to\n",
        "    # compute a rotated bounding box that contains all\n",
        "    # coordinates\n",
        "    coords = np.column_stack(np.where(thresh > 0))\n",
        "    angle = cv2.minAreaRect(coords)[-1]\n",
        "    # the `cv2.minAreaRect` function returns values in the\n",
        "    # range [-90, 0); as the rectangle rotates clockwise the\n",
        "    # returned angle trends to 0 -- in this special case we\n",
        "    # need to add 90 degrees to the angle\n",
        "    if angle < -45:\n",
        "        angle = -(90 + angle)\n",
        "    # otherwise, just take the inverse of the angle to make\n",
        "    # it positive\n",
        "    else:\n",
        "        angle = -angle\n",
        "    # rotate the image to deskew it\n",
        "    (h, w) = image.shape[:2]\n",
        "    center = (w // 2, h // 2)\n",
        "    M = cv2.getRotationMatrix2D(center, angle, 1.0)\n",
        "    rotated = cv2.warpAffine(image, M, (w, h),\n",
        "        flags=cv2.INTER_CUBIC, borderMode=cv2.BORDER_REPLICATE)\n",
        "    # show the output image\n",
        "    # print(\"[INFO] angle: {:.3f}\".format(angle))\n",
        "    img_rgb = cv2.cvtColor(rotated, cv2.COLOR_BGR2RGB)\n",
        "    gray = cv2.cvtColor(rotated, cv2.COLOR_BGR2GRAY)\n",
        "    (thresh, blackAndWhiteImage) = cv2.threshold(gray, 252, 255, cv2.THRESH_BINARY)\n",
        "    cv2_imshow(rotated)\n",
        "    cv2_imshow(gray)\n",
        "    cv2_imshow(blackAndWhiteImage)\n",
        "    return img_rgb, blackAndWhiteImage"
      ],
      "execution_count": 4,
      "outputs": []
    },
    {
      "cell_type": "code",
      "metadata": {
        "id": "Nw3eC_h0IdcE",
        "outputId": "557a3cf9-0b1e-43f8-e8b0-7f8ba7130778",
        "colab": {
          "base_uri": "https://localhost:8080/",
          "height": 1000
        }
      },
      "source": [
        "blank_image = np.zeros((69,200,3), np.uint8)\n",
        "blank_image_bw = np.zeros((69,200), np.uint8)\n",
        "for i in range(4):\n",
        "    crop_img = raw_image[0:0+69, 0+i*50:0+50+i*50]\n",
        "    cv2_imshow(crop_img)\n",
        "    rgb_image, bw_image = try_to_find_rotate_angle(crop_img, i)\n",
        "    y_offset = 0\n",
        "    x_offset = 50 * i\n",
        "    blank_image[y_offset:y_offset+rgb_image.shape[0], x_offset:x_offset+rgb_image.shape[1]] = rgb_image\n",
        "    blank_image_bw[y_offset:y_offset+bw_image.shape[0], x_offset:x_offset+bw_image.shape[1]] = bw_image\n",
        "cv2_imshow(blank_image)\n",
        "cv2_imshow(blank_image_bw)\n",
        "cv2.imwrite(\"blank_image_bw.png\", blank_image_bw)\n",
        "raw_output = pytesseract.image_to_string(blank_image_bw)\n",
        "CAPTCHA_STRING = ''.join(filter(str.isalnum, raw_output))\n",
        "if len(CAPTCHA_STRING) != 4:\n",
        "    raise CaptchaLengthAssertionFailedError(\"The length of tesseract's result is not 4. It's recommended to try another one.\")\n",
        "else:\n",
        "    print(CAPTCHA_STRING)"
      ],
      "execution_count": 5,
      "outputs": [
        {
          "output_type": "display_data",
          "data": {
            "image/png": "[encoded data removed]",
            "text/plain": [
              "<PIL.Image.Image image mode=RGB size=50x69 at 0x7F0BE6FD32B0>"
            ]
          },
          "metadata": {
            "tags": []
          }
        },
        {
          "output_type": "display_data",
          "data": {
            "image/png": "[encoded data removed]",
            "text/plain": [
              "<PIL.Image.Image image mode=RGB size=50x69 at 0x7F0BE6FD3320>"
            ]
          },
          "metadata": {
            "tags": []
          }
        },
        {
          "output_type": "display_data",
          "data": {
            "image/png": "[encoded data removed]",
            "text/plain": [
              "<PIL.Image.Image image mode=L size=50x69 at 0x7F0BE6FD32E8>"
            ]
          },
          "metadata": {
            "tags": []
          }
        },
        {
          "output_type": "display_data",
          "data": {
            "image/png": "[encoded data removed]",
            "text/plain": [
              "<PIL.Image.Image image mode=L size=50x69 at 0x7F0BE6FD3320>"
            ]
          },
          "metadata": {
            "tags": []
          }
        },
        {
          "output_type": "display_data",
          "data": {
            "image/png": "[encoded data removed]",
            "text/plain": [
              "<PIL.Image.Image image mode=RGB size=50x69 at 0x7F0BE6FD3128>"
            ]
          },
          "metadata": {
            "tags": []
          }
        },
        {
          "output_type": "display_data",
          "data": {
            "image/png": "[encoded data removed]",
            "text/plain": [
              "<PIL.Image.Image image mode=RGB size=50x69 at 0x7F0BE6FD32B0>"
            ]
          },
          "metadata": {
            "tags": []
          }
        },
        {
          "output_type": "display_data",
          "data": {
            "image/png": "[encoded data removed]",
            "text/plain": [
              "<PIL.Image.Image image mode=L size=50x69 at 0x7F0BE6FD3128>"
            ]
          },
          "metadata": {
            "tags": []
          }
        },
        {
          "output_type": "display_data",
          "data": {
            "image/png": "[encoded data removed]",
            "text/plain": [
              "<PIL.Image.Image image mode=L size=50x69 at 0x7F0BE6FD3320>"
            ]
          },
          "metadata": {
            "tags": []
          }
        },
        {
          "output_type": "display_data",
          "data": {
            "image/png": "[encoded data removed]",
            "text/plain": [
              "<PIL.Image.Image image mode=RGB size=50x69 at 0x7F0BE6F48400>"
            ]
          },
          "metadata": {
            "tags": []
          }
        },
        {
          "output_type": "display_data",
          "data": {
            "image/png": "[encoded data removed]",
            "text/plain": [
              "<PIL.Image.Image image mode=RGB size=50x69 at 0x7F0BE6F48400>"
            ]
          },
          "metadata": {
            "tags": []
          }
        },
        {
          "output_type": "display_data",
          "data": {
            "image/png": "[encoded data removed]",
            "text/plain": [
              "<PIL.Image.Image image mode=L size=50x69 at 0x7F0BE6FD32B0>"
            ]
          },
          "metadata": {
            "tags": []
          }
        },
        {
          "output_type": "display_data",
          "data": {
            "image/png": "[encoded data removed]",
            "text/plain": [
              "<PIL.Image.Image image mode=L size=50x69 at 0x7F0BE6FD3320>"
            ]
          },
          "metadata": {
            "tags": []
          }
        },
        {
          "output_type": "display_data",
          "data": {
            "image/png": "[encoded data removed]",
            "text/plain": [
              "<PIL.Image.Image image mode=RGB size=50x69 at 0x7F0BE6F48860>"
            ]
          },
          "metadata": {
            "tags": []
          }
        },
        {
          "output_type": "display_data",
          "data": {
            "image/png": "[encoded data removed]",
            "text/plain": [
              "<PIL.Image.Image image mode=RGB size=50x69 at 0x7F0BE6F48860>"
            ]
          },
          "metadata": {
            "tags": []
          }
        },
        {
          "output_type": "display_data",
          "data": {
            "image/png": "[encoded data removed]",
            "text/plain": [
              "<PIL.Image.Image image mode=L size=50x69 at 0x7F0BE6FD32B0>"
            ]
          },
          "metadata": {
            "tags": []
          }
        },
        {
          "output_type": "display_data",
          "data": {
            "image/png": "[encoded data removed]",
            "text/plain": [
              "<PIL.Image.Image image mode=L size=50x69 at 0x7F0BE6FD3320>"
            ]
          },
          "metadata": {
            "tags": []
          }
        },
        {
          "output_type": "display_data",
          "data": {
            "image/png": "[encoded data removed]",
            "text/plain": [
              "<PIL.Image.Image image mode=RGB size=200x69 at 0x7F0BE6FD32B0>"
            ]
          },
          "metadata": {
            "tags": []
          }
        },
        {
          "output_type": "display_data",
          "data": {
            "image/png": "[encoded data removed]",
            "text/plain": [
              "<PIL.Image.Image image mode=L size=200x69 at 0x7F0BE6FD3160>"
            ]
          },
          "metadata": {
            "tags": []
          }
        },
        {
          "output_type": "stream",
          "text": [
            "nN5K\n"
          ],
          "name": "stdout"
        }
      ]
    },
    {
      "cell_type": "code",
      "metadata": {
        "id": "mxu8rNAQTSgf",
        "outputId": "710409be-ff18-4c30-af96-10574984b10e",
        "colab": {
          "base_uri": "https://localhost:8080/",
          "height": 35
        }
      },
      "source": [
        "len(CAPTCHA_STRING)"
      ],
      "execution_count": 6,
      "outputs": [
        {
          "output_type": "execute_result",
          "data": {
            "text/plain": [
              "4"
            ]
          },
          "metadata": {
            "tags": []
          },
          "execution_count": 6
        }
      ]
    },
    {
      "cell_type": "code",
      "metadata": {
        "id": "AYgsRFEyTzmR",
        "outputId": "2610c5f1-bd8a-4838-d085-41a3eee8d595",
        "colab": {
          "base_uri": "https://localhost:8080/",
          "height": 89
        }
      },
      "source": [
        "for i in CAPTCHA_STRING:\n",
        "    print(ord(i))"
      ],
      "execution_count": 7,
      "outputs": [
        {
          "output_type": "stream",
          "text": [
            "110\n",
            "78\n",
            "53\n",
            "75\n"
          ],
          "name": "stdout"
        }
      ]
    },
    {
      "cell_type": "code",
      "metadata": {
        "id": "Iizr6BiZK02C",
        "outputId": "bcf46ca6-b22a-4a57-e88e-e76ae31b7c41",
        "colab": {
          "base_uri": "https://localhost:8080/",
          "height": 71
        }
      },
      "source": [
        "!tesseract ./blank_image_bw.png stdout"
      ],
      "execution_count": 8,
      "outputs": [
        {
          "output_type": "stream",
          "text": [
            "Warning. Invalid resolution 0 dpi. Using 70 instead.\n",
            "Estimating resolution as 394\n",
            "nN5 K\n",
            "\f"
          ],
          "name": "stdout"
        }
      ]
    }
  ]
}